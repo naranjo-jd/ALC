{
 "cells": [
  {
   "cell_type": "code",
   "execution_count": 2,
   "id": "24a88ff5",
   "metadata": {},
   "outputs": [],
   "source": [
    "import pandas as pd\n",
    "import numpy as np\n",
    "import clean\n",
    "import model"
   ]
  },
  {
   "cell_type": "markdown",
   "id": "facadc54",
   "metadata": {},
   "source": [
    "# Exploracion de datos"
   ]
  },
  {
   "cell_type": "code",
   "execution_count": null,
   "id": "9ed64642",
   "metadata": {},
   "outputs": [],
   "source": [
    "df = pd.read_csv(\"data/train_df.csv\")"
   ]
  },
  {
   "cell_type": "code",
   "execution_count": null,
   "id": "be582c3b",
   "metadata": {},
   "outputs": [
    {
     "name": "stdout",
     "output_type": "stream",
     "text": [
      "target\n",
      "0    0.504667\n",
      "1    0.495333\n",
      "Name: proportion, dtype: float64\n"
     ]
    }
   ],
   "source": [
    "print(df[\"target\"].value_counts(normalize=True))"
   ]
  },
  {
   "cell_type": "code",
   "execution_count": 14,
   "id": "86a6f97b",
   "metadata": {},
   "outputs": [
    {
     "name": "stdout",
     "output_type": "stream",
     "text": [
      "       ratio_colesterol  actividad_fisica  presion_arterial  nivel_glucosa  \\\n",
      "count       4500.000000       4500.000000       4500.000000    4500.000000   \n",
      "mean         167.510934         16.122076        129.798259     289.652186   \n",
      "std           20.017701          6.309545         17.698567      76.170775   \n",
      "min          114.654997        -13.243917         72.443614     117.432144   \n",
      "25%          149.893673         12.381921        117.488555     236.281633   \n",
      "50%          167.992048         16.744957        129.605852     281.245188   \n",
      "75%          184.992202         20.455692        141.884810     336.292962   \n",
      "max          217.617202         34.035411        184.892159     720.852288   \n",
      "\n",
      "       indice_masa_corporal  horas_sueno  historial_diabetes  \\\n",
      "count           4500.000000  4500.000000         4500.000000   \n",
      "mean              25.092246     6.991862            0.200222   \n",
      "std                5.045592     1.743349            0.400211   \n",
      "min                6.474250     4.002980            0.000000   \n",
      "25%               21.640229     5.433419            0.000000   \n",
      "50%               25.110503     7.003529            0.000000   \n",
      "75%               28.584031     8.533760            0.000000   \n",
      "max               44.130900     9.999293            1.000000   \n",
      "\n",
      "       frecuencia_cardiaca  proteina_c_reactiva  dias_ultima_consulta  \\\n",
      "count          4500.000000          4500.000000           4500.000000   \n",
      "mean             25.042165             3.645436             29.924889   \n",
      "std              10.246294             2.622638              5.484619   \n",
      "min               0.561186             0.009041             13.000000   \n",
      "25%              17.585434             1.418279             26.000000   \n",
      "50%              24.251471             3.582550             30.000000   \n",
      "75%              31.332935             5.124915             34.000000   \n",
      "max              75.246548            20.868561             53.000000   \n",
      "\n",
      "       consumo_alcohol         edad  nivel_estres       target  \n",
      "count      4500.000000  4500.000000   4500.000000  4500.000000  \n",
      "mean          3.040853    54.049778     22.725109     0.495333  \n",
      "std           2.482567    21.006307     26.038595     0.500034  \n",
      "min           0.008468    18.000000      0.000000     0.000000  \n",
      "25%           1.252301    36.000000      0.000000     0.000000  \n",
      "50%           2.408176    54.500000      0.000000     0.000000  \n",
      "75%           4.059523    73.000000     44.812959     1.000000  \n",
      "max          19.981630    89.000000    108.092478     1.000000  \n"
     ]
    }
   ],
   "source": [
    "print(df.describe())\n"
   ]
  },
  {
   "cell_type": "code",
   "execution_count": 15,
   "id": "a8de3dd9",
   "metadata": {},
   "outputs": [
    {
     "name": "stdout",
     "output_type": "stream",
     "text": [
      "paciente_id             0\n",
      "ratio_colesterol        0\n",
      "actividad_fisica        0\n",
      "presion_arterial        0\n",
      "nivel_glucosa           0\n",
      "indice_masa_corporal    0\n",
      "horas_sueno             0\n",
      "historial_diabetes      0\n",
      "frecuencia_cardiaca     0\n",
      "proteina_c_reactiva     0\n",
      "dias_ultima_consulta    0\n",
      "consumo_alcohol         0\n",
      "edad                    0\n",
      "genero                  0\n",
      "nivel_estres            0\n",
      "target                  0\n",
      "dtype: int64\n"
     ]
    }
   ],
   "source": [
    "print(df.isnull().sum())\n"
   ]
  },
  {
   "cell_type": "code",
   "execution_count": 16,
   "id": "f2a31a98",
   "metadata": {},
   "outputs": [
    {
     "name": "stdout",
     "output_type": "stream",
     "text": [
      "  paciente_id  ratio_colesterol  actividad_fisica  presion_arterial  \\\n",
      "0   PAC_11952        178.752967          6.747645        114.971011   \n",
      "1   PAC_10214        168.330154         23.521691         95.529973   \n",
      "2   PAC_09998        185.735985          0.224380        163.923803   \n",
      "3   PAC_00130        178.513403         13.487034        147.598815   \n",
      "4   PAC_10168        153.748651         15.638448        126.253096   \n",
      "\n",
      "   nivel_glucosa  indice_masa_corporal  horas_sueno  historial_diabetes  \\\n",
      "0     151.008232             15.852293     5.110575                   0   \n",
      "1     297.313974             27.482569     8.090175                   0   \n",
      "2     286.279129             24.705224     8.680475                   1   \n",
      "3     351.784306             28.917964     8.405222                   1   \n",
      "4     213.042582             17.779001     6.533278                   0   \n",
      "\n",
      "   frecuencia_cardiaca  proteina_c_reactiva  dias_ultima_consulta  \\\n",
      "0            22.121619             6.991028                    28   \n",
      "1            11.912401             2.498829                    32   \n",
      "2            37.637730             6.244282                    37   \n",
      "3            20.024038             4.570638                    34   \n",
      "4            42.681905             2.778819                    34   \n",
      "\n",
      "   consumo_alcohol  edad genero  nivel_estres  target  \n",
      "0         0.918261    64      F     43.039728       0  \n",
      "1         4.275428    78      F      0.000000       0  \n",
      "2         4.867886    46      F     60.677406       0  \n",
      "3         2.812914    78      F     80.270834       0  \n",
      "4         0.171503    87      F      0.000000       0  \n"
     ]
    }
   ],
   "source": [
    "print(df.head())\n"
   ]
  },
  {
   "cell_type": "code",
   "execution_count": 17,
   "id": "87d98b62",
   "metadata": {},
   "outputs": [
    {
     "name": "stdout",
     "output_type": "stream",
     "text": [
      "target                  1.000000\n",
      "horas_sueno             0.019934\n",
      "consumo_alcohol         0.018628\n",
      "proteina_c_reactiva     0.009160\n",
      "ratio_colesterol        0.005497\n",
      "nivel_estres            0.001612\n",
      "actividad_fisica        0.001469\n",
      "frecuencia_cardiaca    -0.000867\n",
      "dias_ultima_consulta   -0.002478\n",
      "edad                   -0.004104\n",
      "indice_masa_corporal   -0.016382\n",
      "nivel_glucosa          -0.019268\n",
      "historial_diabetes     -0.033649\n",
      "presion_arterial       -0.038872\n",
      "Name: target, dtype: float64\n"
     ]
    }
   ],
   "source": [
    "print(df.corr(numeric_only=True)[\"target\"].sort_values(ascending=False))"
   ]
  },
  {
   "cell_type": "markdown",
   "id": "d639bc58",
   "metadata": {},
   "source": [
    "Las variables tienen una relacion muy baja con target. Esto indica que la relacion puede no ser lineal."
   ]
  },
  {
   "cell_type": "code",
   "execution_count": 3,
   "id": "bf67cf4e",
   "metadata": {},
   "outputs": [],
   "source": [
    "# 1. Cargar datos de entrenamiento para calcular media y std\n",
    "train_df = pd.read_csv(\"data/train_df.csv\")\n",
    "X_train, y_train, media, std = clean.prep(train_df)\n",
    "\n",
    "# 2. Entrenar modelo con todos los datos\n",
    "weights = model.train(X_train, y_train, lr=0.1, epochs=1000)\n",
    "\n",
    "# 3. Cargar datos de test\n",
    "test_df = pd.read_csv(\"data/train_df.csv\")\n",
    "paciente_ids = test_df[\"paciente_id\"].values\n",
    "y_true = test_df[\"target\"].values\n",
    "\n",
    "# 4. Preprocesar test (sin target)\n",
    "def prep_test(df, media, std):\n",
    "    df = df.copy()\n",
    "    df = df.drop(columns=[\"paciente_id\"])\n",
    "    df[\"genero\"] = df[\"genero\"].map({\"F\": 0, \"M\": 1})\n",
    "    X = df.drop(columns=[\"target\"]).values\n",
    "    X_normalizado = (X - media) / std\n",
    "    X_final = clean.add_bias(X_normalizado)\n",
    "    return X_final\n",
    "\n",
    "X_test = prep_test(test_df, media, std)"
   ]
  },
  {
   "cell_type": "code",
   "execution_count": 4,
   "id": "d8a95b1b",
   "metadata": {},
   "outputs": [
    {
     "name": "stdout",
     "output_type": "stream",
     "text": [
      "Archivo guardado como predicciones.csv\n"
     ]
    }
   ],
   "source": [
    "# 5. Predecir\n",
    "y_pred = model.predict(X_test, weights)\n",
    "\n",
    "# 6. Crear y guardar DataFrame\n",
    "predicciones = pd.DataFrame({\n",
    "    \"paciente_id\": paciente_ids,\n",
    "    \"target\": y_pred.astype(int)\n",
    "})\n",
    "predicciones.to_csv(\"predicciones.csv\", index=False)\n",
    "print(\"Archivo guardado como predicciones.csv\")"
   ]
  },
  {
   "cell_type": "code",
   "execution_count": 5,
   "id": "bd5df180",
   "metadata": {},
   "outputs": [
    {
     "name": "stdout",
     "output_type": "stream",
     "text": [
      "Precisión: 0.5261\n",
      "Recall: 0.4832\n",
      "F1-Score: 0.5037\n"
     ]
    }
   ],
   "source": [
    "precision, recall, f1 = model.precision_recall_f1(y_train, y_pred)\n",
    "print(f\"Precisión: {precision:.4f}\")\n",
    "print(f\"Recall: {recall:.4f}\")\n",
    "print(f\"F1-Score: {f1:.4f}\")"
   ]
  },
  {
   "cell_type": "code",
   "execution_count": 28,
   "id": "9a9f9c63",
   "metadata": {},
   "outputs": [],
   "source": [
    "import numpy as np\n",
    "from model import train, predict\n",
    "from clean import add_bias, k_fold_split\n",
    "from sklearn.metrics import f1_score\n",
    "\n",
    "# Transformaciones no lineales seguras\n",
    "def log(x): return np.log1p(np.maximum(x, 0))\n",
    "def sqrt(x): return np.sqrt(np.maximum(x, 0))\n",
    "def square(x): return np.power(x, 2)\n",
    "def identity(x): return x\n",
    "\n",
    "transformaciones = {\n",
    "    \"log\": log,\n",
    "    \"sqrt\": sqrt,\n",
    "    \"square\": square,\n",
    "    \"identity\": identity\n",
    "}\n",
    "\n",
    "def transformar(X, transformaciones):\n",
    "    X_new = np.zeros_like(X)\n",
    "    for i, t in enumerate(transformaciones):\n",
    "        if t == \"original\":\n",
    "            X_new[:, i] = X[:, i]\n",
    "        elif t == \"cuadrado\":\n",
    "            X_new[:, i] = X[:, i] ** 2\n",
    "        elif t == \"raiz\":\n",
    "            X_new[:, i] = np.sqrt(np.maximum(X[:, i], 0))\n",
    "        elif t == \"log\":\n",
    "            X_new[:, i] = np.log1p(np.maximum(X[:, i], 0))\n",
    "    return X_new\n",
    "\n",
    "def evaluar_mejores_transformaciones(X, y):\n",
    "    opciones = [\"original\", \"cuadrado\", \"raiz\", \"log\"]\n",
    "    mejores = [\"original\"] * X.shape[1]\n",
    "\n",
    "    for i in range(X.shape[1]):\n",
    "        mejor_score = -1\n",
    "        mejor_transf = \"original\"\n",
    "\n",
    "        for t in opciones:\n",
    "            temp = mejores.copy()\n",
    "            temp[i] = t\n",
    "            X_trans = transformar(X, temp)\n",
    "            X_norm = (X_trans - X_trans.mean(axis=0)) / X_trans.std(axis=0)\n",
    "            X_final = clean.add_bias(X_norm)\n",
    "            weights = model.train(X_final, y, lr=0.1, epochs=500)\n",
    "            y_pred = model.predict(X_final, weights)\n",
    "            f1 = model.f1_score(y, y_pred)\n",
    "\n",
    "            if f1 > mejor_score:\n",
    "                mejor_score = f1\n",
    "                mejor_transf = t\n",
    "\n",
    "        mejores[i] = mejor_transf\n",
    "\n",
    "    # aplicar la mejor combinación final\n",
    "    X_mejor = transformar(X, mejores)\n",
    "    return X_mejor, mejores\n"
   ]
  },
  {
   "cell_type": "code",
   "execution_count": 29,
   "id": "f0f1be0c",
   "metadata": {},
   "outputs": [],
   "source": [
    "# 1. Cargar datos\n",
    "df = pd.read_csv(\"data/train_df.csv\")\n",
    "\n",
    "# 2. Preprocesamiento inicial (como en clean.prep)\n",
    "df = df.drop(columns=[\"paciente_id\"])\n",
    "df[\"genero\"] = df[\"genero\"].map({\"F\": 0, \"M\": 1})\n",
    "y = df[\"target\"].values\n",
    "X_raw = df.drop(columns=[\"target\"]).values  # sin normalizar aún\n"
   ]
  },
  {
   "cell_type": "code",
   "execution_count": 30,
   "id": "1d25c4ca",
   "metadata": {},
   "outputs": [],
   "source": [
    "# 3. Buscar mejores transformaciones automáticamente\n",
    "X_trans, mejores_transformaciones = evaluar_mejores_transformaciones(X_raw, y)\n",
    "\n",
    "# 4. Normalizar y agregar bias\n",
    "media = X_trans.mean(axis=0)\n",
    "std = X_trans.std(axis=0)\n",
    "X_normalizado = (X_trans - media) / std\n",
    "X_final = clean.add_bias(X_normalizado)"
   ]
  },
  {
   "cell_type": "code",
   "execution_count": 31,
   "id": "9956f94b",
   "metadata": {},
   "outputs": [],
   "source": [
    "# 5. Entrenar modelo\n",
    "weights = model.train(X_final, y, lr=0.1, epochs=1000)\n",
    "\n",
    "# 6. Predecir sobre mismo conjunto (simulación de test)\n",
    "y_pred = model.predict(X_final, weights)\n"
   ]
  },
  {
   "cell_type": "code",
   "execution_count": 35,
   "id": "b0c9ff04",
   "metadata": {},
   "outputs": [
    {
     "name": "stdout",
     "output_type": "stream",
     "text": [
      "Precisión: 0.5297\n",
      "Recall: 0.4998\n",
      "F1-Score: 0.5143\n",
      "\n",
      "Mejores transformaciones por variable:\n",
      "ratio_colesterol: log\n",
      "actividad_fisica: cuadrado\n",
      "presion_arterial: cuadrado\n",
      "nivel_glucosa: original\n",
      "indice_masa_corporal: original\n",
      "horas_sueno: original\n",
      "historial_diabetes: original\n",
      "frecuencia_cardiaca: raiz\n",
      "proteina_c_reactiva: original\n",
      "dias_ultima_consulta: log\n",
      "consumo_alcohol: cuadrado\n",
      "edad: raiz\n",
      "genero: original\n",
      "nivel_estres: cuadrado\n"
     ]
    }
   ],
   "source": [
    "# 7. Evaluar\n",
    "precision, recall, f1 = model.precision_recall_f1(y, y_pred)\n",
    "\n",
    "print(f\"Precisión: {precision:.4f}\")\n",
    "print(f\"Recall: {recall:.4f}\")\n",
    "print(f\"F1-Score: {f1:.4f}\")\n",
    "\n",
    "# 8. Mostrar transformaciones usadas\n",
    "print(\"\\nMejores transformaciones por variable:\")\n",
    "for i, name in enumerate(df.drop(columns=[\"target\"]).columns):\n",
    "    print(f\"{name}: {mejores_transformaciones[i]}\")"
   ]
  }
 ],
 "metadata": {
  "kernelspec": {
   "display_name": "Python 3",
   "language": "python",
   "name": "python3"
  },
  "language_info": {
   "codemirror_mode": {
    "name": "ipython",
    "version": 3
   },
   "file_extension": ".py",
   "mimetype": "text/x-python",
   "name": "python",
   "nbconvert_exporter": "python",
   "pygments_lexer": "ipython3",
   "version": "3.11.4"
  }
 },
 "nbformat": 4,
 "nbformat_minor": 5
}
